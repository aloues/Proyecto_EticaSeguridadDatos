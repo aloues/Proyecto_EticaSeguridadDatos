{
 "cells": [
  {
   "cell_type": "code",
   "execution_count": 1,
   "metadata": {},
   "outputs": [
    {
     "name": "stderr",
     "output_type": "stream",
     "text": [
      "C:\\Users\\afp20\\AppData\\Local\\Temp\\ipykernel_29048\\116846325.py:29: DtypeWarning: Columns (14,15) have mixed types. Specify dtype option on import or set low_memory=False.\n",
      "  df = pd.read_csv(input_file)\n"
     ]
    },
    {
     "name": "stdout",
     "output_type": "stream",
     "text": [
      "Archivo con privacidad diferencial guardado como: archivos/combined_dataset_protected.csv\n"
     ]
    }
   ],
   "source": [
    "import pandas as pd\n",
    "import numpy as np\n",
    "\n",
    "def add_differential_privacy(df, column, epsilon):\n",
    "    if column not in df.columns:\n",
    "        raise ValueError(f\"La columna '{column}' no existe en el DataFrame.\")\n",
    "    \n",
    "    # Manejar valores NaN reemplazándolos por 0\n",
    "    df[column] = df[column].fillna(0)\n",
    "\n",
    "    # Calcular sensibilidad como rango de los valores\n",
    "    sensitivity = df[column].max() - df[column].min()\n",
    "\n",
    "    # Escala del ruido basado en epsilon\n",
    "    scale = sensitivity / epsilon\n",
    "\n",
    "    # Generar ruido Laplaciano\n",
    "    noise = np.random.laplace(0, scale, size=len(df[column]))\n",
    "\n",
    "    # Añadir ruido a la columna\n",
    "    df[column] += noise\n",
    "    return df\n",
    "\n",
    "# Cargar el archivo CSV\n",
    "input_file = \"archivos/combined_dataset.csv\"\n",
    "output_file = \"archivos/combined_dataset_protected.csv\"\n",
    "\n",
    "# Leer el DataFrame original\n",
    "df = pd.read_csv(input_file)\n",
    "\n",
    "# Aplicar privacidad diferencial a columnas sensibles\n",
    "epsilon = 1.0  # Ajusta este valor según el nivel de privacidad deseado\n",
    "df = add_differential_privacy(df, 'TransactionAmount (INR)', epsilon)\n",
    "df = add_differential_privacy(df, 'CustAccountBalance', epsilon)\n",
    "\n",
    "# Guardar el DataFrame modificado en un nuevo archivo\n",
    "df.to_csv(output_file, index=False)\n",
    "\n",
    "print(f\"Archivo con privacidad diferencial guardado como: {output_file}\")\n"
   ]
  },
  {
   "cell_type": "code",
   "execution_count": 2,
   "metadata": {},
   "outputs": [
    {
     "name": "stdout",
     "output_type": "stream",
     "text": [
      "Antes de aplicar privacidad diferencial:\n",
      "   TransactionAmount (INR)  CustAccountBalance\n",
      "0             6.292018e+05        3.421609e+08\n",
      "1            -7.002905e+05       -4.375013e+07\n",
      "2             7.983064e+05       -4.373255e+07\n",
      "3            -2.925213e+06       -2.716014e+07\n",
      "4            -1.989053e+05       -3.490942e+07\n",
      "Después de aplicar privacidad diferencial:\n",
      "   TransactionAmount (INR)  CustAccountBalance\n",
      "0             1.089256e+07       -2.068460e+08\n",
      "1             1.900408e+07        9.561487e+08\n",
      "2             9.453330e+07       -1.725666e+09\n",
      "3             2.874008e+07        7.778667e+09\n",
      "4             2.170200e+07        2.125510e+09\n"
     ]
    }
   ],
   "source": [
    "print(\"Antes de aplicar privacidad diferencial:\")\n",
    "print(df[['TransactionAmount (INR)', 'CustAccountBalance']].head())\n",
    "\n",
    "# Aplicar privacidad diferencial\n",
    "df = add_differential_privacy(df, 'TransactionAmount (INR)', epsilon)\n",
    "df = add_differential_privacy(df, 'CustAccountBalance', epsilon)\n",
    "\n",
    "print(\"Después de aplicar privacidad diferencial:\")\n",
    "print(df[['TransactionAmount (INR)', 'CustAccountBalance']].head())\n"
   ]
  },
  {
   "cell_type": "markdown",
   "metadata": {},
   "source": [
    "Consideraciones Finales\n",
    "\n",
    "Epsilon Ajustable:\n",
    "Se puede ajustar el valor de epsilon en apply_noise_to_dataset.py según la cantidad de ruido deseada. Recuerda que un epsilon más bajo significa mayor privacidad, pero más ruido.\n",
    "\n",
    "Integridad del Proceso:\n",
    "Informa en la documentación del proyecto que este paso debe realizarse siempre antes de desplegar la aplicación para asegurar que los datos estén protegidos adecuadamente."
   ]
  }
 ],
 "metadata": {
  "kernelspec": {
   "display_name": "Python 3",
   "language": "python",
   "name": "python3"
  },
  "language_info": {
   "codemirror_mode": {
    "name": "ipython",
    "version": 3
   },
   "file_extension": ".py",
   "mimetype": "text/x-python",
   "name": "python",
   "nbconvert_exporter": "python",
   "pygments_lexer": "ipython3",
   "version": "3.12.0"
  }
 },
 "nbformat": 4,
 "nbformat_minor": 2
}
